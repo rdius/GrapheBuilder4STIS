{
 "cells": [
  {
   "cell_type": "markdown",
   "metadata": {},
   "source": [
    "# STIS DATA Preprocessing"
   ]
  },
  {
   "cell_type": "code",
   "execution_count": 3,
   "metadata": {},
   "outputs": [],
   "source": [
    "# Essential Pkg\n",
    "import fnmatch\n",
    "import os\n",
    "import numpy as np\n",
    "from osgeo import gdal\n",
    "#### Unzip folders\n",
    "import zipfile"
   ]
  },
  {
   "cell_type": "markdown",
   "metadata": {},
   "source": [
    "### STEP I : unzip STIS files for each period "
   ]
  },
  {
   "cell_type": "code",
   "execution_count": 7,
   "metadata": {},
   "outputs": [],
   "source": [
    "### STEP I : Fxn to unzip  files for each period \n",
    "def unzip(input_dir,output_dir):\n",
    "    \"\"\"\n",
    "    @input_dir : contains STIS data (ex : 1 year data, each zip file contains images (for multiple band)\n",
    "                                    for a month)\n",
    "    @output_dir : output directory, where you want t unzip files\n",
    "    \"\"\"\n",
    "    files = os.listdir(input_dir)\n",
    "    for file in files:\n",
    "        filePath=input_dir+'/'+file\n",
    "        print(filePath)\n",
    "        with zipfile.ZipFile(filePath, 'r') as zip_ref:\n",
    "            zip_ref.extractall(output_dir)"
   ]
  },
  {
   "cell_type": "code",
   "execution_count": 8,
   "metadata": {},
   "outputs": [],
   "source": [
    "input_dir = 'ziped_file_directory'\n",
    "output_dir = 'unziped_files_directory' \n",
    "# usage\n",
    "unzip(input_dir,output_dir)"
   ]
  },
  {
   "cell_type": "markdown",
   "metadata": {},
   "source": [
    "### STEP II : rename files for needed bands"
   ]
  },
  {
   "cell_type": "code",
   "execution_count": 5,
   "metadata": {},
   "outputs": [],
   "source": [
    "##### Rename file names for visible band (B2,B3,B4,B5), in order to make then custom and readable\n",
    "### ex : from SENTINEL2A_20170126-105612-238_L2A_T31TEJ_D_V1-4_ATB_R1.tif to 20170126_B1.tif"
   ]
  },
  {
   "cell_type": "code",
   "execution_count": 11,
   "metadata": {},
   "outputs": [],
   "source": [
    "### STEP II : rename files for needed bands\n",
    "def rename_file(directory, bandlist):\n",
    "    for root, dirnames, filenames in os.walk(directory):\n",
    "        for i in bandlist:\n",
    "            for filename1 in fnmatch.filter(filenames,i):\n",
    "#                 print(filename1)\n",
    "                old_file = os.path.join(root, filename1)\n",
    "#                 new_fname = filename1.split(\"_\")[0]+'-'+filename1.split(\"_\")[-1]\n",
    "                new_fname = filename1.split(\"_\")[1].split('-')[0]+'-'+filename1.split(\"_\")[-1]\n",
    "                \n",
    "                new_file =  os.path.join(root, new_fname)\n",
    "#                 print(new_file)\n",
    "                os.rename(old_file, new_file)"
   ]
  },
  {
   "cell_type": "code",
   "execution_count": 12,
   "metadata": {},
   "outputs": [],
   "source": [
    "# B2 (bleue), B3 (verte), B4 (rouge), et B8 (proche infra-rouge).\n",
    "bandlist = ['*_FRE_B2.tif', '*_FRE_B3.tif', '*_FRE_B4.tif', '*_FRE_B8.tif']\n",
    "directory = 'unziped_files_directory'\n",
    "# usage\n",
    "rename_file(directory,bandlist)"
   ]
  },
  {
   "cell_type": "code",
   "execution_count": 13,
   "metadata": {},
   "outputs": [],
   "source": [
    "# fxn to compute ndvi\n",
    "def ndvi(red, nir):\n",
    "    return ((nir.astype('float32') - red.astype('float32')) / (nir+red))"
   ]
  },
  {
   "cell_type": "markdown",
   "metadata": {},
   "source": [
    "### STEP III - Generate NDVI bands"
   ]
  },
  {
   "cell_type": "code",
   "execution_count": 15,
   "metadata": {},
   "outputs": [],
   "source": [
    "####STEP III - Generate NDVI band\n",
    "def ndvi_generator(directory):\n",
    "    dic = {}\n",
    "    nir_band = ['*-B4.tif', '*-B8.tif']\n",
    "    outpath = ''\n",
    "    liste =[]\n",
    "    for root, dirnames, filenames in os.walk(directory):\n",
    "        for x in filenames:\n",
    "            tmp = x.split('-')[0]\n",
    "            dic[tmp] =  {}\n",
    "            for i in nir_band:\n",
    "                for filename in fnmatch.filter(filenames, i):        \n",
    "                    bd = filename.split('-')[-1].split('.')[0]\n",
    "                    dic[tmp][bd] = os.path.join(root,filename)# filename # []\n",
    "    dic = {k: v for k, v in dic.items() if v}\n",
    "#     print(dic, len(dic))\n",
    "    \n",
    "    for K in dic:\n",
    "    #     print(dic[K]['B4'])\n",
    "        redbname = dic[K]['B4']\n",
    "#         print(redbname.shape\n",
    "        red_band_data =gdal.Open(redbname)\n",
    "        red_band_array = red_band_data.ReadAsArray().astype('float32')\n",
    "        print(red_band_array.shape)\n",
    "    #     print(red_band_array)\n",
    "\n",
    "        nirfile = dic[K]['B8']\n",
    "        nir_band_data = gdal.Open(nirfile)\n",
    "        nir_band_array = nir_band_data.ReadAsArray().astype('float32')\n",
    "        print(nir_band_array.shape)\n",
    "#         print(nir_band_array)\n",
    "\n",
    "        # compute ndvi value\n",
    "        ndvi_val = ndvi(red_band_array,nir_band_array)\n",
    "        ###\n",
    "#         outfile = nirfile.split('.')[0] + '-ndvi.tif'\n",
    "        outfile = nirfile.split('.')[0] + '_NDVI.tif'\n",
    "        print(outfile)\n",
    "\n",
    "        x_pixels = red_band_array.shape[0] # number of pixels in x\n",
    "        y_pixels = red_band_array.shape[1] # number of pixels in y\n",
    "        print(x_pixels,y_pixels,K)\n",
    "\n",
    "        driver = gdal.GetDriverByName('GTiff')\n",
    "        ndvi_data = driver.Create(outfile,x_pixels, y_pixels, 1,gdal.GDT_Float32)\n",
    "#         x = ndvi_data.GetRasterBand(1)\n",
    "#         print(x)\n",
    "        ndvi_data.GetRasterBand(1).WriteArray(ndvi_val)\n",
    "\n",
    "        geotrans=red_band_data.GetGeoTransform() #  input GeoTranform information\n",
    "        proj=red_band_data.GetProjection() #  projection information from input file\n",
    "\n",
    "        ndvi_data.SetGeoTransform(geotrans) \n",
    "        ndvi_data.SetProjection(proj)\n",
    "        ndvi_data.FlushCache()\n",
    "        ndvi_data=None    "
   ]
  },
  {
   "cell_type": "code",
   "execution_count": 2,
   "metadata": {},
   "outputs": [],
   "source": [
    "directory = \"unziped_files_directory\"\n",
    "# # usage\n",
    "ndvi_generator(directory)"
   ]
  },
  {
   "cell_type": "code",
   "execution_count": null,
   "metadata": {},
   "outputs": [],
   "source": [
    "##### NOTE : Faire attention aux bandes utilisées, pour ne pas avoir des erreurs ci-dessous :\n",
    "########### error : ValueError: array larger than output file, or offset off edge : Check the \n",
    "               # that you are using the right bands, if you accountred that error"
   ]
  },
  {
   "cell_type": "markdown",
   "metadata": {},
   "source": [
    "### STEP IV - Generate multi-bande images"
   ]
  },
  {
   "cell_type": "code",
   "execution_count": 18,
   "metadata": {},
   "outputs": [],
   "source": [
    "#### STEP IV - Generate multi-bande images\n",
    "def multi_band_generator(data):            \n",
    "    dic = {}\n",
    "    nir_band = ['*-B2.tif','*-B3.tif','*-B4.tif', '*-B8.tif','*-B8_NDVI.tif']\n",
    "    outpath = ''\n",
    "    liste =[]\n",
    "    for root, dirnames, filenames in os.walk(directory):\n",
    "        for x in filenames:\n",
    "            tmp = x.split('-')[0]\n",
    "            dic[tmp] =  {}\n",
    "            for i in nir_band:\n",
    "                for filename in fnmatch.filter(filenames, i):        \n",
    "                    bd = filename.split('-')[-1].split('.')[0]\n",
    "                    dic[tmp][bd] = os.path.join(root,filename)# filename # []\n",
    "    dic = {k: v for k, v in dic.items() if v}\n",
    "\n",
    "\n",
    "    for K in dic:\n",
    "        bluebname = dic[K]['B2']\n",
    "        blue_band_data =gdal.Open(bluebname)\n",
    "        blue_band_array = blue_band_data.ReadAsArray().astype('float32')\n",
    "\n",
    "        greenbname = dic[K]['B3']\n",
    "        green_band_data =gdal.Open(greenbname)\n",
    "        green_band_array = green_band_data.ReadAsArray().astype('float32')\n",
    "\n",
    "\n",
    "        redbname = dic[K]['B4']\n",
    "        red_band_data =gdal.Open(redbname)\n",
    "        red_band_array = red_band_data.ReadAsArray().astype('float32')\n",
    "\n",
    "        nirbname = dic[K]['B8']\n",
    "        nir_band_data =gdal.Open(nirbname)\n",
    "        nir_band_array = nir_band_data.ReadAsArray().astype('float32')\n",
    "\n",
    "        ndvibname = dic[K]['B8_NDVI']\n",
    "        ndvi_band_data =gdal.Open(ndvibname)\n",
    "        ndvi_band_array = ndvi_band_data.ReadAsArray().astype('float32')\n",
    "\n",
    "        ###################\n",
    "        # Create output filename based on input name \n",
    "    #     outfile = os.path.join(outpath,K.split('-')[0] + '_MULTI.tif')\n",
    "    #     print(outfile)\n",
    "#         outfile = './'+ K.split('.')[0] + '_MULTI.tif'\n",
    "        \n",
    "        r_path = '/unziped_files/multi_bands_tif' # specify outpath\n",
    "        outfile = r_path +'/'+K+'_multi.tif' # name for each multiband file\n",
    "        \n",
    "        x_pixels = red_band_array.shape[0] # number of pixels in x\n",
    "        y_pixels = red_band_array.shape[1] # number of pixels in y\n",
    "        print(x_pixels,y_pixels)\n",
    "\n",
    "        # Set up output GeoTIFF\n",
    "        driver = gdal.GetDriverByName('GTiff')\n",
    "\n",
    "        # Create driver using output filename, x and y pixels, # of bands, and datatype\n",
    "        multibnd_data = driver.Create(outfile,x_pixels, y_pixels, 5,gdal.GDT_Float32)\n",
    "        #multibnd_data1 = driver.Create(outfile1,x_pixels, y_pixels, 5,gdal.GDT_Float32)\n",
    "\n",
    "        # \n",
    "        multibnd_data.GetRasterBand(1).WriteArray(blue_band_array)\n",
    "        multibnd_data.GetRasterBand(2).WriteArray(green_band_array)\n",
    "        multibnd_data.GetRasterBand(3).WriteArray(red_band_array)\n",
    "        multibnd_data.GetRasterBand(4).WriteArray(nir_band_array)\n",
    "        multibnd_data.GetRasterBand(5).WriteArray(ndvi_band_array)\n",
    "\n",
    "\n",
    "        # Setting up the coordinate reference system of the output GeoTIFF\n",
    "        geotrans = red_band_data.GetGeoTransform() #  input GeoTranform information\n",
    "        proj = red_band_data.GetProjection() #  projection information from input file\n",
    "\n",
    "\n",
    "        # GeoTransform parameters and projection on the output file\n",
    "        multibnd_data.SetGeoTransform(geotrans) \n",
    "        multibnd_data.SetProjection(proj)\n",
    "        multibnd_data.FlushCache()\n",
    "        multibnd_data=None\n"
   ]
  },
  {
   "cell_type": "code",
   "execution_count": 3,
   "metadata": {},
   "outputs": [],
   "source": [
    "directory = \"unziped_files\"\n",
    "# usage\n",
    "multi_band_generator(directory)"
   ]
  },
  {
   "cell_type": "code",
   "execution_count": null,
   "metadata": {},
   "outputs": [],
   "source": []
  },
  {
   "cell_type": "markdown",
   "metadata": {},
   "source": [
    "### STEP V -> Cut origin images with the study area shape\n",
    "#### run in wrap_cut .sh file using gdalwarp\n",
    "* dossier -> multi_bands folder\n",
    "* target_shape_file.shp -> hape for the study area"
   ]
  },
  {
   "cell_type": "markdown",
   "metadata": {},
   "source": [
    "### STEP VI -> Check that all images are valid. If not, only keep the good ones"
   ]
  },
  {
   "cell_type": "markdown",
   "metadata": {},
   "source": [
    "### STEP VII -> Segementation\n",
    "#### run in segmentation.sh file with otbcli_LargeScaleMeanShift\n",
    "   * dossier -> multibands folder for a given year (stis for a year)"
   ]
  },
  {
   "cell_type": "markdown",
   "metadata": {},
   "source": [
    "### STEP IIX -> Run Graph4SIT \n",
    "* to build graph for each STIS (ex : 2018)"
   ]
  },
  {
   "cell_type": "code",
   "execution_count": null,
   "metadata": {},
   "outputs": [],
   "source": []
  }
 ],
 "metadata": {
  "kernelspec": {
   "display_name": "Python 3",
   "language": "python",
   "name": "python3"
  },
  "language_info": {
   "codemirror_mode": {
    "name": "ipython",
    "version": 3
   },
   "file_extension": ".py",
   "mimetype": "text/x-python",
   "name": "python",
   "nbconvert_exporter": "python",
   "pygments_lexer": "ipython3",
   "version": "3.7.7"
  }
 },
 "nbformat": 4,
 "nbformat_minor": 4
}
